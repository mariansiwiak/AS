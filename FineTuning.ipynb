{
 "cells": [
  {
   "cell_type": "markdown",
   "id": "6e6a1b27-626f-42a9-8eae-ce8ba34fcc1f",
   "metadata": {},
   "source": [
    ".\\llama.cpp\\finetune.exe --model-base .\\llama-2-13b-chat.Q6_K.gguf --train-data .\\finetune_prompts.txt --threads 16 --sample-start \"<s>\""
   ]
  },
  {
   "cell_type": "markdown",
   "id": "02cf7b01-e2fd-479d-afe0-6744fe8ca631",
   "metadata": {},
   "source": [
    "llama.cpp\\export-lora.exe --model-base .\\llama-2-13b-chat.Q6_K.gguf --model-out llama-2-13b_Action-input.gguf --lora-scaled .\\ggml-lora-LATEST-f32.gguf 1.0"
   ]
  },
  {
   "cell_type": "code",
   "execution_count": null,
   "id": "0f0cf95e-6e1e-4c91-bf45-422f0ef5f8f5",
   "metadata": {},
   "outputs": [],
   "source": []
  }
 ],
 "metadata": {
  "kernelspec": {
   "display_name": "Python 3 (ipykernel)",
   "language": "python",
   "name": "python3"
  },
  "language_info": {
   "codemirror_mode": {
    "name": "ipython",
    "version": 3
   },
   "file_extension": ".py",
   "mimetype": "text/x-python",
   "name": "python",
   "nbconvert_exporter": "python",
   "pygments_lexer": "ipython3",
   "version": "3.9.18"
  }
 },
 "nbformat": 4,
 "nbformat_minor": 5
}
